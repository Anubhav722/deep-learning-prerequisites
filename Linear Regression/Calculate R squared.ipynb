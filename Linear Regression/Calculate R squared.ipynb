{
 "cells": [
  {
   "cell_type": "code",
   "execution_count": 1,
   "metadata": {},
   "outputs": [],
   "source": [
    "import numpy as np\n",
    "import matplotlib.pyplot as plt"
   ]
  },
  {
   "cell_type": "code",
   "execution_count": 2,
   "metadata": {},
   "outputs": [],
   "source": [
    "# Loading the data\n",
    "X = []\n",
    "Y = []\n",
    "\n",
    "for line in open('/home/launchyard/Desktop/lazy_programmer/machine_learning_examples/linear_regression_class/data_1d.csv'):\n",
    "    x, y = line.split(',')\n",
    "    X.append(float(x))\n",
    "    Y.append(float(y))"
   ]
  },
  {
   "cell_type": "code",
   "execution_count": 3,
   "metadata": {},
   "outputs": [],
   "source": [
    "# Let's turn X and Y into numpy arrays\n",
    "X = np.array(X)\n",
    "Y = np.array(Y)"
   ]
  },
  {
   "cell_type": "code",
   "execution_count": 4,
   "metadata": {},
   "outputs": [
    {
     "data": {
      "image/png": "[encoded data removed]",
      "text/plain": [
       "<matplotlib.figure.Figure at 0x7f42a8ecd208>"
      ]
     },
     "metadata": {},
     "output_type": "display_data"
    }
   ],
   "source": [
    "# Let's just plot the data to see what it looks like.\n",
    "plt.scatter(X, Y)\n",
    "plt.show()"
   ]
  },
  {
   "cell_type": "code",
   "execution_count": 5,
   "metadata": {},
   "outputs": [],
   "source": [
    "# Remember the equations x(i)^2. So taking the dot product here is much more efficient.\n",
    "denominator = X.dot(X) - X.mean() * X.sum()"
   ]
  },
  {
   "cell_type": "code",
   "execution_count": 6,
   "metadata": {},
   "outputs": [],
   "source": [
    "# Calculating the numerator for a and b.\n",
    "# Sum of x(i) and y(i) is same as the dot product of x(i) and y(i)\n",
    "a = (X.dot(Y) - Y.mean() * X.sum()) / denominator\n",
    "b = (Y.mean() * X.dot(X) - X.mean() * X.dot(Y)) / denominator"
   ]
  },
  {
   "cell_type": "code",
   "execution_count": 7,
   "metadata": {},
   "outputs": [],
   "source": [
    "# Calculate predicted Y\n",
    "Yhat = a*X + b"
   ]
  },
  {
   "cell_type": "code",
   "execution_count": 8,
   "metadata": {},
   "outputs": [
    {
     "data": {
      "text/plain": [
       "[<matplotlib.lines.Line2D at 0x7f42a8ee4668>]"
      ]
     },
     "execution_count": 8,
     "metadata": {},
     "output_type": "execute_result"
    }
   ],
   "source": [
    "plt.scatter(X, Y)\n",
    "plt.plot(X, Yhat)"
   ]
  },
  {
   "cell_type": "code",
   "execution_count": 9,
   "metadata": {},
   "outputs": [
    {
     "data": {
      "image/png": "[encoded data removed]",
      "text/plain": [
       "<matplotlib.figure.Figure at 0x7f42a8ee4940>"
      ]
     },
     "metadata": {},
     "output_type": "display_data"
    }
   ],
   "source": [
    "plt.show()"
   ]
  },
  {
   "cell_type": "code",
   "execution_count": 10,
   "metadata": {},
   "outputs": [],
   "source": [
    "# Calculate R squared (Calculating the difference acc to the formula)\n",
    "d1 = Y - Yhat\n",
    "d2 = Y - Y.mean()"
   ]
  },
  {
   "cell_type": "code",
   "execution_count": 12,
   "metadata": {},
   "outputs": [
    {
     "data": {
      "text/plain": [
       "array([  89.69257833,  -39.89638822,  -46.63292494,   89.42033922,\n",
       "         17.82407077,    8.29872683,    3.27571495,   50.49822793,\n",
       "         52.13235597,   41.51680778,  -76.01946688,   76.6981619 ,\n",
       "         -4.2664476 ,   35.7847606 ,  -60.75063975,   -0.36326355,\n",
       "         60.82231625,   59.34288491,  -36.98560217,  -10.6176875 ,\n",
       "        -57.11382192,   38.03211295,  -60.93518315,  -94.24327145,\n",
       "        -44.98639125,   52.42959182,  -29.50285361,   39.78212538,\n",
       "        -23.84176236,   84.46901493,  -15.7543236 ,  -99.23564099,\n",
       "        -91.39066834,  -74.13261561,   24.01868777,   21.2117853 ,\n",
       "         52.82332274,   53.11618798,   -3.0867646 ,   19.48239829,\n",
       "         17.03210986,   17.73035667,   -8.76757338,   58.94539772,\n",
       "         71.74981486,  -73.70982402,   53.88590737,   31.08834325,\n",
       "        -89.58372948,  -33.37846604,  -32.66573479,   71.75448929,\n",
       "       -101.05268538,  -29.40070097,   47.104732  ,  -57.45630386,\n",
       "         57.95490843,    3.41023021,    7.20482735,   79.25714855,\n",
       "        -36.78983478,  -88.30802771,  -80.46409784,  -20.19460854,\n",
       "         60.43755636,  -11.46650931,  -82.54073311,  -53.48291188,\n",
       "         25.67819668,  -79.48083454,   -6.88146829,  -93.62978516,\n",
       "        -24.89639482,  -57.25525385,  -28.00528533,   83.83726008,\n",
       "         13.00805768,    3.86526513,  -62.54945127,   64.64614532,\n",
       "        -22.59782176,  -37.56806651,   42.29158857,   80.10685199,\n",
       "        -41.16019881,   81.65790635,   -4.04022188,   51.04237231,\n",
       "         -8.78821812,   15.1603373 ,   17.27628856,   48.19043536,\n",
       "        -72.0764495 ,   43.83640095,   21.94690103,   55.60984486,\n",
       "         35.41146488,   40.60715078,  -43.69018151,  -20.76337243])"
      ]
     },
     "execution_count": 12,
     "metadata": {},
     "output_type": "execute_result"
    }
   ],
   "source": [
    "d2"
   ]
  },
  {
   "cell_type": "code",
   "execution_count": 13,
   "metadata": {},
   "outputs": [
    {
     "name": "stdout",
     "output_type": "stream",
     "text": [
      "The R squared is: 0.9911838202977805\n"
     ]
    }
   ],
   "source": [
    "r2 = 1 - d1.dot(d1)/d2.dot(d2)\n",
    "print(\"The R squared is: {}\".format(r2))"
   ]
  },
  {
   "cell_type": "code",
   "execution_count": null,
   "metadata": {},
   "outputs": [],
   "source": []
  }
 ],
 "metadata": {
  "kernelspec": {
   "display_name": "Python 3",
   "language": "python",
   "name": "python3"
  },
  "language_info": {
   "codemirror_mode": {
    "name": "ipython",
    "version": 3
   },
   "file_extension": ".py",
   "mimetype": "text/x-python",
   "name": "python",
   "nbconvert_exporter": "python",
   "pygments_lexer": "ipython3",
   "version": "3.5.0"
  }
 },
 "nbformat": 4,
 "nbformat_minor": 2
}
