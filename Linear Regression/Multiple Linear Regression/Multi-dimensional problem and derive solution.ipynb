{
 "cells": [
  {
   "cell_type": "code",
   "execution_count": 1,
   "metadata": {},
   "outputs": [],
   "source": [
    "# What if there are multiple inputs that affect our output\n",
    "# The multiple linear regression comes into play"
   ]
  },
  {
   "cell_type": "markdown",
   "metadata": {},
   "source": [
    "### Multiple Linear Regression"
   ]
  },
  {
   "cell_type": "code",
   "execution_count": 6,
   "metadata": {},
   "outputs": [],
   "source": [
    "# For simple linear regression we have:\n",
    "# [(x1,y1), (x2,y2), (x3,y3) ... (xn,yn)]\n",
    "# We still have this but now xi is a verctor not a scalar\n",
    "# Dimensionality == size of x, represented by the letter D.\n",
    "# Means w is also of size D. (since we will be taking the dot product of w and x)"
   ]
  },
  {
   "cell_type": "code",
   "execution_count": 7,
   "metadata": {},
   "outputs": [],
   "source": [
    "# Our model:\n",
    "# yhat = w^T * x + b"
   ]
  },
  {
   "cell_type": "markdown",
   "metadata": {},
   "source": [
    "#### Bias Term"
   ]
  },
  {
   "cell_type": "code",
   "execution_count": 8,
   "metadata": {},
   "outputs": [],
   "source": [
    "# We can always absorb b into w by appending a 1 to the feature vector x.\n",
    "# Rename b to w0, append x0 which is always 1."
   ]
  },
  {
   "cell_type": "code",
   "execution_count": 9,
   "metadata": {},
   "outputs": [],
   "source": [
    "# yhat = b + w1x1 + w2x2 + w3x3 ... + wdxd\n",
    "# yhat = w0 + w1x1 + w2x2 + ... wdxd\n",
    "# yhat = w0x0 + w1x1 + w2x2 + ... wdxd = w(dash-transpose) * x(dash)    where x0 = 1"
   ]
  },
  {
   "cell_type": "markdown",
   "metadata": {},
   "source": [
    "#### The Data Matrix"
   ]
  },
  {
   "cell_type": "code",
   "execution_count": 10,
   "metadata": {},
   "outputs": [],
   "source": [
    "# Why is X and N*D matrix?\n",
    "# N = no. of samples\n",
    "# D = no. of inputs/features"
   ]
  },
  {
   "cell_type": "code",
   "execution_count": null,
   "metadata": {},
   "outputs": [],
   "source": []
  }
 ],
 "metadata": {
  "kernelspec": {
   "display_name": "Python 3",
   "language": "python",
   "name": "python3"
  },
  "language_info": {
   "codemirror_mode": {
    "name": "ipython",
    "version": 3
   },
   "file_extension": ".py",
   "mimetype": "text/x-python",
   "name": "python",
   "nbconvert_exporter": "python",
   "pygments_lexer": "ipython3",
   "version": "3.5.0"
  }
 },
 "nbformat": 4,
 "nbformat_minor": 2
}
