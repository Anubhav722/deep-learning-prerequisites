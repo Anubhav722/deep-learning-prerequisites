{
 "cells": [
  {
   "cell_type": "markdown",
   "metadata": {},
   "source": [
    "### Solution of linear regression problem"
   ]
  },
  {
   "cell_type": "code",
   "execution_count": 2,
   "metadata": {},
   "outputs": [],
   "source": [
    "import numpy as np\n",
    "import pandas as pd\n",
    "import matplotlib.pyplot as plt"
   ]
  },
  {
   "cell_type": "code",
   "execution_count": 4,
   "metadata": {},
   "outputs": [],
   "source": [
    "# Loading the data\n",
    "X = []\n",
    "Y = []\n",
    "\n",
    "for line in open('/home/launchyard/Desktop/lazy_programmer/machine_learning_examples/linear_regression_class/data_1d.csv'):\n",
    "    x, y = line.split(',')\n",
    "    X.append(float(x))\n",
    "    Y.append(float(y))"
   ]
  },
  {
   "cell_type": "code",
   "execution_count": 6,
   "metadata": {},
   "outputs": [
    {
     "data": {
      "text/plain": [
       "[197.179636092,\n",
       " 67.5906695414,\n",
       " 60.8541328206,\n",
       " 196.907396981,\n",
       " 125.311128524,\n",
       " 115.785784589,\n",
       " 110.762772705,\n",
       " 157.98528569,\n",
       " 159.61941373,\n",
       " 149.003865539,\n",
       " 31.4675908827,\n",
       " 184.185219661,\n",
       " 103.220610158,\n",
       " 143.271818357,\n",
       " 46.7364180117,\n",
       " 107.123794204,\n",
       " 168.309374007,\n",
       " 166.82994267,\n",
       " 70.5014555898,\n",
       " 96.8693702549,\n",
       " 50.3732358383,\n",
       " 145.519170708,\n",
       " 46.5518746077,\n",
       " 13.2437863094,\n",
       " 62.5006665037,\n",
       " 159.916649576,\n",
       " 77.9842041485,\n",
       " 147.269183138,\n",
       " 83.6452954011,\n",
       " 191.956072692,\n",
       " 91.7327341584,\n",
       " 8.2514167727,\n",
       " 16.0963894188,\n",
       " 33.3544421438,\n",
       " 131.505745533,\n",
       " 128.698843062,\n",
       " 160.310380503,\n",
       " 160.603245737,\n",
       " 104.400293158,\n",
       " 126.969456046,\n",
       " 124.519167614,\n",
       " 125.217414427,\n",
       " 98.7194843794,\n",
       " 166.432455477,\n",
       " 179.236872614,\n",
       " 33.7772337402,\n",
       " 161.372965132,\n",
       " 138.575401004,\n",
       " 17.9033282786,\n",
       " 74.1085917146,\n",
       " 74.8213229656,\n",
       " 179.241547046,\n",
       " 6.43437237688,\n",
       " 78.086356791,\n",
       " 154.591789763,\n",
       " 50.0307538993,\n",
       " 165.441966192,\n",
       " 110.897287971,\n",
       " 114.691885107,\n",
       " 186.744206306,\n",
       " 70.6972229828,\n",
       " 19.1790300473,\n",
       " 27.022959917,\n",
       " 87.2924492169,\n",
       " 167.924614121,\n",
       " 96.0205484441,\n",
       " 24.9463246457,\n",
       " 54.0041458755,\n",
       " 133.165254434,\n",
       " 28.0062232213,\n",
       " 100.605589468,\n",
       " 13.8572726025,\n",
       " 82.5906629412,\n",
       " 50.2318039097,\n",
       " 79.4817724245,\n",
       " 191.324317836,\n",
       " 120.495115436,\n",
       " 111.352322885,\n",
       " 44.9376064869,\n",
       " 172.133203076,\n",
       " 84.889236,\n",
       " 69.9189912445,\n",
       " 149.778646331,\n",
       " 187.593909745,\n",
       " 66.326858951,\n",
       " 189.144964109,\n",
       " 103.44683588,\n",
       " 158.529430067,\n",
       " 98.6988396336,\n",
       " 122.647395062,\n",
       " 124.763346322,\n",
       " 155.67749312,\n",
       " 35.4106082545,\n",
       " 151.323458712,\n",
       " 129.43395879,\n",
       " 163.096902614,\n",
       " 142.898522638,\n",
       " 148.09420854,\n",
       " 63.7968762483,\n",
       " 86.7236853299]"
      ]
     },
     "execution_count": 6,
     "metadata": {},
     "output_type": "execute_result"
    }
   ],
   "source": [
    "Y"
   ]
  },
  {
   "cell_type": "code",
   "execution_count": 7,
   "metadata": {},
   "outputs": [],
   "source": [
    "# Let's turn X and Y into numpy arrays\n",
    "X = np.array(X)\n",
    "Y = np.array(Y)"
   ]
  },
  {
   "cell_type": "code",
   "execution_count": 11,
   "metadata": {},
   "outputs": [
    {
     "data": {
      "image/png": "[encoded data removed]",
      "text/plain": [
       "<matplotlib.figure.Figure at 0x7fca3c1af438>"
      ]
     },
     "metadata": {},
     "output_type": "display_data"
    }
   ],
   "source": [
    "# Let's just plot the data to see what it looks like.\n",
    "plt.scatter(X, Y)\n",
    "plt.show()"
   ]
  },
  {
   "cell_type": "code",
   "execution_count": 12,
   "metadata": {},
   "outputs": [],
   "source": [
    "# Let's apply the equations we learned to calculate for a and b.\n",
    "# Remember when we derived the equation the denominator was common\n",
    "# So we don't need to derive it twice we can simply assign it to a variable."
   ]
  },
  {
   "cell_type": "code",
   "execution_count": 13,
   "metadata": {},
   "outputs": [],
   "source": [
    "# Remember the equations x(i)^2. So taking the dot product here is much more efficient.\n",
    "denominator = X.dot(X) - X.mean() * X.sum()"
   ]
  },
  {
   "cell_type": "code",
   "execution_count": 14,
   "metadata": {},
   "outputs": [
    {
     "data": {
      "text/plain": [
       "71642.992720996961"
      ]
     },
     "execution_count": 14,
     "metadata": {},
     "output_type": "execute_result"
    }
   ],
   "source": [
    "denominator"
   ]
  },
  {
   "cell_type": "code",
   "execution_count": 18,
   "metadata": {},
   "outputs": [],
   "source": [
    "# Calculating the numerator for a and b.\n",
    "# Sum of x(i) and y(i) is same as the dot product of x(i) and y(i)\n",
    "a = (X.dot(Y) - Y.mean() * X.sum()) / denominator\n",
    "b = (Y.mean() * X.dot(X) - X.mean() * X.dot(Y)) / denominator"
   ]
  },
  {
   "cell_type": "code",
   "execution_count": 19,
   "metadata": {},
   "outputs": [
    {
     "data": {
      "text/plain": [
       "1.9726121674845978"
      ]
     },
     "execution_count": 19,
     "metadata": {},
     "output_type": "execute_result"
    }
   ],
   "source": [
    "a"
   ]
  },
  {
   "cell_type": "code",
   "execution_count": 20,
   "metadata": {},
   "outputs": [
    {
     "data": {
      "text/plain": [
       "2.8644240756601382"
      ]
     },
     "execution_count": 20,
     "metadata": {},
     "output_type": "execute_result"
    }
   ],
   "source": [
    "b"
   ]
  },
  {
   "cell_type": "code",
   "execution_count": 21,
   "metadata": {},
   "outputs": [],
   "source": [
    "# Calculate predicted Y\n",
    "Yhat = a*X + b"
   ]
  },
  {
   "cell_type": "code",
   "execution_count": 22,
   "metadata": {},
   "outputs": [
    {
     "data": {
      "text/plain": [
       "array([ 191.69107156,   73.40033825,   59.70888793,  200.04374055,\n",
       "        134.6541465 ,  117.70140772,  109.03253413,  163.23006493,\n",
       "        161.95302519,  157.22687651,   36.12953718,  181.97592734,\n",
       "        108.02977779,  144.14051872,   39.18138143,  115.54860556,\n",
       "        162.91168877,  164.64871484,   75.70294737,   90.81753142,\n",
       "         55.45890889,  148.96605693,   37.85970159,   16.31713371,\n",
       "         54.77836881,  166.20483683,   80.67714285,  154.21924834,\n",
       "         86.13993556,  188.99729889,   85.99382217,    9.19897215,\n",
       "         16.44718721,   30.23594106,  127.72565267,  122.19270381,\n",
       "        159.89872354,  167.46778996,  111.14518947,  125.25700848,\n",
       "        134.346438  ,  123.82463362,   96.20755007,  162.94384962,\n",
       "        182.41456945,   36.09004217,  153.78195174,  144.62758755,\n",
       "         22.29088522,   73.46364625,   73.65889458,  182.03569977,\n",
       "         17.18967731,   72.61458615,  158.85712223,   45.38103823,\n",
       "        159.64059254,   99.06470845,  110.95146298,  175.47494321,\n",
       "         79.69595275,   21.39832425,   24.80221251,   93.87198766,\n",
       "        171.91250045,  101.71260448,   24.7084738 ,   46.71190545,\n",
       "        136.12217728,   28.0885821 ,   95.50912276,   12.42871435,\n",
       "         82.82885829,   54.80421236,   79.56890841,  187.97093041,\n",
       "        121.38223758,  101.71984163,   37.81651826,  170.68052043,\n",
       "         84.37573694,   72.79657722,  148.87919971,  181.42472732,\n",
       "         70.99962607,  189.39790936,  107.32660238,  160.88335524,\n",
       "        101.1454019 ,  124.73580715,  121.78553496,  155.38815834,\n",
       "         33.72862173,  143.98631828,  126.05878448,  158.81881137,\n",
       "        145.28247263,  143.74395344,   64.03279987,   82.41056643])"
      ]
     },
     "execution_count": 22,
     "metadata": {},
     "output_type": "execute_result"
    }
   ],
   "source": [
    "Yhat"
   ]
  },
  {
   "cell_type": "code",
   "execution_count": 25,
   "metadata": {},
   "outputs": [
    {
     "data": {
      "text/plain": [
       "[<matplotlib.lines.Line2D at 0x7fca2687c828>]"
      ]
     },
     "execution_count": 25,
     "metadata": {},
     "output_type": "execute_result"
    }
   ],
   "source": [
    "plt.scatter(X, Y)\n",
    "plt.plot(X, Yhat)"
   ]
  },
  {
   "cell_type": "code",
   "execution_count": 26,
   "metadata": {},
   "outputs": [
    {
     "data": {
      "image/png": "[encoded data removed]",
      "text/plain": [
       "<matplotlib.figure.Figure at 0x7fca2687cd68>"
      ]
     },
     "metadata": {},
     "output_type": "display_data"
    }
   ],
   "source": [
    "plt.show()"
   ]
  },
  {
   "cell_type": "code",
   "execution_count": null,
   "metadata": {},
   "outputs": [],
   "source": []
  },
  {
   "cell_type": "code",
   "execution_count": null,
   "metadata": {},
   "outputs": [],
   "source": []
  },
  {
   "cell_type": "code",
   "execution_count": null,
   "metadata": {},
   "outputs": [],
   "source": []
  }
 ],
 "metadata": {
  "kernelspec": {
   "display_name": "Python 3",
   "language": "python",
   "name": "python3"
  },
  "language_info": {
   "codemirror_mode": {
    "name": "ipython",
    "version": 3
   },
   "file_extension": ".py",
   "mimetype": "text/x-python",
   "name": "python",
   "nbconvert_exporter": "python",
   "pygments_lexer": "ipython3",
   "version": "3.5.0"
  }
 },
 "nbformat": 4,
 "nbformat_minor": 2
}
