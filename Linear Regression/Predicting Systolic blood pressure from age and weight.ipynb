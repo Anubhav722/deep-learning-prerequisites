{
 "cells": [
  {
   "cell_type": "code",
   "execution_count": 3,
   "metadata": {},
   "outputs": [],
   "source": [
    "import pandas as pd\n",
    "import numpy as np\n",
    "import matplotlib.pyplot as plt"
   ]
  },
  {
   "cell_type": "code",
   "execution_count": 4,
   "metadata": {},
   "outputs": [],
   "source": [
    "# need to do sudo pip install xlrd to use pd.read_excel()\n",
    "# data is from \n",
    "# The data (X1, X2, X3) are for each patient\n",
    "# X1 = systolic blood pressure (to be predicted)\n",
    "# X2 = age in years\n",
    "# X3 = weight in pounds"
   ]
  },
  {
   "cell_type": "code",
   "execution_count": 5,
   "metadata": {},
   "outputs": [
    {
     "name": "stdout",
     "output_type": "stream",
     "text": [
      "*** No CODEPAGE record, no encoding_override: will use 'ascii'\n"
     ]
    }
   ],
   "source": [
    "df = pd.read_excel('/home/launchyard/Desktop/lazy_programmer/machine_learning_examples/linear_regression_class/mlr02.xls')"
   ]
  },
  {
   "cell_type": "code",
   "execution_count": 9,
   "metadata": {},
   "outputs": [
    {
     "data": {
      "text/plain": [
       "array([[132,  52, 173],\n",
       "       [143,  59, 184],\n",
       "       [153,  67, 194],\n",
       "       [162,  73, 211],\n",
       "       [154,  64, 196],\n",
       "       [168,  74, 220],\n",
       "       [137,  54, 188],\n",
       "       [149,  61, 188],\n",
       "       [159,  65, 207],\n",
       "       [128,  46, 167],\n",
       "       [166,  72, 217]])"
      ]
     },
     "execution_count": 9,
     "metadata": {},
     "output_type": "execute_result"
    }
   ],
   "source": [
    "# converting file into matrix\n",
    "# df.head()\n",
    "X = df.as_matrix()\n",
    "X"
   ]
  },
  {
   "cell_type": "code",
   "execution_count": 10,
   "metadata": {},
   "outputs": [
    {
     "data": {
      "image/png": "[encoded data removed]",
      "text/plain": [
       "<matplotlib.figure.Figure at 0x7f14482207b8>"
      ]
     },
     "metadata": {},
     "output_type": "display_data"
    }
   ],
   "source": [
    "# here age will be X-axis and blood pressure will be Y-axis\n",
    "plt.scatter(X[:,1], X[:,0])\n",
    "plt.show()"
   ]
  },
  {
   "cell_type": "code",
   "execution_count": null,
   "metadata": {},
   "outputs": [],
   "source": []
  }
 ],
 "metadata": {
  "kernelspec": {
   "display_name": "Python 3",
   "language": "python",
   "name": "python3"
  },
  "language_info": {
   "codemirror_mode": {
    "name": "ipython",
    "version": 3
   },
   "file_extension": ".py",
   "mimetype": "text/x-python",
   "name": "python",
   "nbconvert_exporter": "python",
   "pygments_lexer": "ipython3",
   "version": "3.5.0"
  }
 },
 "nbformat": 4,
 "nbformat_minor": 2
}
