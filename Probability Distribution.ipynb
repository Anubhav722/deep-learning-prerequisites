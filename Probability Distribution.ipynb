{
 "cells": [
  {
   "cell_type": "markdown",
   "metadata": {},
   "source": [
    "# Types of Distribution"
   ]
  },
  {
   "cell_type": "markdown",
   "metadata": {},
   "source": [
    "### Bernoulli Distribution"
   ]
  },
  {
   "cell_type": "code",
   "execution_count": 1,
   "metadata": {
    "collapsed": true
   },
   "outputs": [],
   "source": [
    "# A bernoulli distribution has only two possible outcomes namely 1(success) and 0(failure) and a single trial\n",
    "# So the random variable X which has a Bernoulli distribution can take value 1 with the probability of success,\n",
    "# say p, and the value 0 with the probability of failure, say q or 1-p.\n",
    "# Probability of getting a head = 0.5 = Probability of getting a tail since there are only two possible outcomes.\n",
    "# The probability mass function is given by: px(1-p)1-x  where x € (0, 1)."
   ]
  },
  {
   "cell_type": "code",
   "execution_count": 3,
   "metadata": {},
   "outputs": [],
   "source": [
    "# So p(x) = {1-p, x=0 | p, x=1}"
   ]
  },
  {
   "cell_type": "code",
   "execution_count": 4,
   "metadata": {
    "collapsed": true
   },
   "outputs": [],
   "source": [
    "# The expected value of a random variable X from a Bernoulli distribution is found as follows:\n",
    "# E(X) = 1*p + 0*(1-p) = p"
   ]
  },
  {
   "cell_type": "code",
   "execution_count": 5,
   "metadata": {
    "collapsed": true
   },
   "outputs": [],
   "source": [
    "# The variance of a random variable from a binomial distribution is:\n",
    "# V(X) = E(X²) – [E(X)]² = p – p² = p(1-p)"
   ]
  },
  {
   "cell_type": "markdown",
   "metadata": {},
   "source": [
    "### Uniform Distribution"
   ]
  },
  {
   "cell_type": "code",
   "execution_count": 8,
   "metadata": {},
   "outputs": [],
   "source": [
    "# https://s3-ap-south-1.amazonaws.com/av-blog-media/wp-content/uploads/2017/09/16160917/image60.png"
   ]
  },
  {
   "cell_type": "code",
   "execution_count": 9,
   "metadata": {
    "collapsed": true
   },
   "outputs": [],
   "source": [
    "# When you roll a fair die, the outcomes are 1 to 6. The probabilities of getting these outcomes are equally likely\n",
    "# and that is the basis of a uniform distribution.\n",
    "# Unlike Bernoulli Distribution, all the n number of possible outcomes of a uniform distribution are equally likely."
   ]
  },
  {
   "cell_type": "code",
   "execution_count": 10,
   "metadata": {
    "collapsed": true
   },
   "outputs": [],
   "source": [
    "# A variable X is said to be uniformly distributed if the density function is:\n",
    "# f(x) = 1/(b-a)"
   ]
  },
  {
   "cell_type": "code",
   "execution_count": 11,
   "metadata": {
    "collapsed": true
   },
   "outputs": [],
   "source": [
    "# For a Uniform Distribution, a and b are the parameters. \n",
    "\n",
    "# The number of bouquets sold daily at a flower shop is uniformly distributed with a maximum of 40 \n",
    "# and a minimum of 10.\n",
    "\n",
    "# Let’s try calculating the probability that the daily sales will fall between 15 and 30.\n",
    "\n",
    "# The probability that daily sales will fall between 15 and 30 is (30-15)*(1/(40-10)) = 0.5\n",
    "\n",
    "# Similarly, the probability that daily sales are greater than 20 is  = 0.667"
   ]
  },
  {
   "cell_type": "code",
   "execution_count": 12,
   "metadata": {
    "collapsed": true
   },
   "outputs": [],
   "source": [
    "# The mean and variance of X following a uniform distribution is:\n",
    "# Mean -> E(X) = (a+b)/2\n",
    "# Variance -> V(X) =  (b-a)²/12"
   ]
  },
  {
   "cell_type": "markdown",
   "metadata": {},
   "source": [
    "### Binomial Distribution"
   ]
  },
  {
   "cell_type": "code",
   "execution_count": 13,
   "metadata": {
    "collapsed": true
   },
   "outputs": [],
   "source": [
    "# Let’s get back to cricket.  Suppose that you won the toss today and this indicates a successful event. \n",
    "# You toss again but you lost this time. If you win a toss today, this does not necessitate that you will win \n",
    "# the toss tomorrow. Let’s assign a random variable, say X, to the number of times you won the toss.\n",
    "# What can be the possible value of X? It can be any number depending on the number of times you tossed a coin."
   ]
  },
  {
   "cell_type": "code",
   "execution_count": 14,
   "metadata": {
    "collapsed": true
   },
   "outputs": [],
   "source": [
    "# On the basis of the above explanation, the properties of a Binomial Distribution are\n",
    "\n",
    "# Each trial is independent.\n",
    "# There are only two possible outcomes in a trial- either a success or a failure.\n",
    "# A total number of n identical trials are conducted.\n",
    "# The probability of success and failure is same for all trials. (Trials are identical.)"
   ]
  },
  {
   "cell_type": "code",
   "execution_count": 18,
   "metadata": {
    "collapsed": true
   },
   "outputs": [],
   "source": [
    "# The mathematical representation of binomial distribution is given by:\n",
    "# P(x) = n!/((n-x)! * x!) * p^x * q^(n-x)\n",
    "\n",
    "# Mean -> µ = n*p\n",
    "\n",
    "# Variance -> Var(X) = n*p*q"
   ]
  },
  {
   "cell_type": "markdown",
   "metadata": {},
   "source": [
    "### Normal Distribution"
   ]
  },
  {
   "cell_type": "code",
   "execution_count": 19,
   "metadata": {
    "collapsed": true
   },
   "outputs": [],
   "source": [
    "# Any distribution is known as Normal distribution if it has the following characteristics:\n",
    "# The mean, median and mode of the distribution coincide.\n",
    "# The curve of the distribution is bell-shaped and symmetrical about the line x=μ.\n",
    "# The total area under the curve is 1.\n",
    "# Exactly half of the values are to the left of the center and the other half to the right."
   ]
  },
  {
   "cell_type": "code",
   "execution_count": 20,
   "metadata": {
    "collapsed": true
   },
   "outputs": [],
   "source": [
    "# The PDF of a random variable X following a normal distribution is given by:\n",
    "# https://s3-ap-south-1.amazonaws.com/av-blog-media/wp-content/uploads/2017/09/16161923/image62.png"
   ]
  },
  {
   "cell_type": "code",
   "execution_count": 21,
   "metadata": {
    "collapsed": true
   },
   "outputs": [],
   "source": [
    "# The mean and variance of a random variable X which is said to be normally distributed is given by:\n",
    "\n",
    "# Mean -> E(X) = µ\n",
    "\n",
    "# Variance -> Var(X) = σ^2"
   ]
  },
  {
   "cell_type": "markdown",
   "metadata": {},
   "source": [
    "### Poisson Distribution"
   ]
  },
  {
   "cell_type": "code",
   "execution_count": 22,
   "metadata": {
    "collapsed": true
   },
   "outputs": [],
   "source": [
    "# Suppose you work at a call center, approximately how many calls do you get in a day?\n",
    "# It can be any number. Now, the entire number of calls at a call center in a day is modeled by Poisson distribution.\n",
    "# Some more examples are"
   ]
  },
  {
   "cell_type": "code",
   "execution_count": 23,
   "metadata": {
    "collapsed": true
   },
   "outputs": [],
   "source": [
    "# The number of emergency calls recorded at a hospital in a day.\n",
    "# The number of thefts reported in an area on a day.\n",
    "# The number of customers arriving at a salon in an hour.\n",
    "# The number of suicides reported in a particular city.\n",
    "# The number of printing errors at each page of the book."
   ]
  },
  {
   "cell_type": "code",
   "execution_count": 24,
   "metadata": {
    "collapsed": true
   },
   "outputs": [],
   "source": [
    "# A distribution is called Poisson distribution when the following assumptions are valid:\n",
    "\n",
    "# 1. Any successful event should not influence the outcome of another successful event.\n",
    "# 2. The probability of success over a short interval must equal the probability of success over a longer interval.\n",
    "# 3. The probability of success in an interval approaches zero as the interval becomes smaller.\n",
    "\n",
    "# Now, if any distribution validates the above assumptions then it is a Poisson distribution. Some notations used in Poisson distribution are:\n",
    "\n",
    "# λ is the rate at which an event occurs,\n",
    "# t is the length of a time interval,\n",
    "# And X is the number of events in that time interval."
   ]
  },
  {
   "cell_type": "code",
   "execution_count": 25,
   "metadata": {
    "collapsed": true
   },
   "outputs": [],
   "source": [
    "# Here, X is called a Poisson Random Variable and the probability distribution of X is called Poisson distribution.\n"
   ]
  },
  {
   "cell_type": "code",
   "execution_count": 26,
   "metadata": {
    "collapsed": true
   },
   "outputs": [],
   "source": [
    "# Let µ denote the mean number of events in an interval of length t. Then, µ = λ*t."
   ]
  },
  {
   "cell_type": "code",
   "execution_count": 27,
   "metadata": {
    "collapsed": true
   },
   "outputs": [],
   "source": [
    "# The PMF of X following a Poisson distribution is given by:\n",
    "# https://s3-ap-south-1.amazonaws.com/av-blog-media/wp-content/uploads/2017/09/16155422/image58.png"
   ]
  },
  {
   "cell_type": "code",
   "execution_count": 28,
   "metadata": {
    "collapsed": true
   },
   "outputs": [],
   "source": [
    "\n",
    "### Study all the other distributions from here\n",
    "\n",
    "### https://www.analyticsvidhya.com/blog/2017/09/6-probability-distributions-data-science/"
   ]
  },
  {
   "cell_type": "code",
   "execution_count": null,
   "metadata": {
    "collapsed": true
   },
   "outputs": [],
   "source": []
  }
 ],
 "metadata": {
  "kernelspec": {
   "display_name": "Python 2",
   "language": "python",
   "name": "python2"
  },
  "language_info": {
   "codemirror_mode": {
    "name": "ipython",
    "version": 2
   },
   "file_extension": ".py",
   "mimetype": "text/x-python",
   "name": "python",
   "nbconvert_exporter": "python",
   "pygments_lexer": "ipython2",
   "version": "2.7.12"
  }
 },
 "nbformat": 4,
 "nbformat_minor": 2
}
