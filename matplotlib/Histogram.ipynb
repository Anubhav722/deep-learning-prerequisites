{
 "cells": [
  {
   "cell_type": "markdown",
   "metadata": {},
   "source": [
    "### It is discreted probability distribution or the frequency count in each bucket of values"
   ]
  },
  {
   "cell_type": "code",
   "execution_count": 2,
   "metadata": {},
   "outputs": [],
   "source": [
    "import matplotlib.pyplot as plt\n",
    "import numpy as np\n",
    "import pandas as pd"
   ]
  },
  {
   "cell_type": "code",
   "execution_count": 5,
   "metadata": {},
   "outputs": [],
   "source": [
    "A = pd.read_csv('/home/launchyard/Desktop/lazy_programmer/machine_learning_examples/linear_regression_class/data_1d.csv', header=None).as_matrix()"
   ]
  },
  {
   "cell_type": "code",
   "execution_count": 6,
   "metadata": {},
   "outputs": [
    {
     "data": {
      "text/plain": [
       "array([[  95.72416241,  197.17963609],\n",
       "       [  35.75761893,   67.59066954],\n",
       "       [  28.81684742,   60.85413282],\n",
       "       [  99.95848131,  196.90739698],\n",
       "       [  66.80974831,  125.31112852],\n",
       "       [  58.21569264,  115.78578459],\n",
       "       [  53.82107634,  110.76277271],\n",
       "       [  81.29608217,  157.98528569],\n",
       "       [  80.64869706,  159.61941373],\n",
       "       [  78.25281369,  149.00386554],\n",
       "       [  16.86348369,   31.46759088],\n",
       "       [  90.79914756,  184.18521966],\n",
       "       [  53.31273701,  103.22061016],\n",
       "       [  71.61878902,  143.27181836],\n",
       "       [  18.41059178,   46.73641801],\n",
       "       [  57.12434676,  107.1237942 ],\n",
       "       [  81.13468392,  168.30937401],\n",
       "       [  82.01525542,  166.82994267],\n",
       "       [  36.92490825,   70.50145559],\n",
       "       [  44.58712604,   96.86937025],\n",
       "       [  26.66235446,   50.37323584],\n",
       "       [  74.06505712,  145.51917071],\n",
       "       [  17.74057673,   46.55187461],\n",
       "       [   6.81974382,   13.24378631],\n",
       "       [  26.31736009,   62.5006665 ],\n",
       "       [  82.80411905,  159.91664958],\n",
       "       [  39.44653696,   77.98420415],\n",
       "       [  76.72812059,  147.26918314],\n",
       "       [  42.21585614,   83.6452954 ],\n",
       "       [  94.35857584,  191.95607269],\n",
       "       [  42.14178513,   91.73273416],\n",
       "       [   3.21124861,    8.25141677],\n",
       "       [   6.8856734 ,   16.09638942],\n",
       "       [  13.87577216,   33.35444214],\n",
       "       [  63.29740364,  131.50574553],\n",
       "       [  60.49251936,  128.69884306],\n",
       "       [  79.60728523,  160.3103805 ],\n",
       "       [  83.44436306,  160.60324574],\n",
       "       [  54.89207011,  104.40029316],\n",
       "       [  62.04594417,  126.96945605],\n",
       "       [  66.65375794,  124.51916761],\n",
       "       [  61.31981316,  125.21741443],\n",
       "       [  47.31955299,   98.71948438],\n",
       "       [  81.1509876 ,  166.43245548],\n",
       "       [  91.02151367,  179.23687261],\n",
       "       [  16.84346201,   33.77723374],\n",
       "       [  76.50643657,  161.37296513],\n",
       "       [  71.86570468,  138.575401  ],\n",
       "       [   9.84808948,   17.90332828],\n",
       "       [  35.78971241,   74.10859171],\n",
       "       [  35.888692  ,   74.82132297],\n",
       "       [  90.82944871,  179.24154705],\n",
       "       [   7.26207284,    6.43437238],\n",
       "       [  35.35928817,   78.08635679],\n",
       "       [  79.07925376,  154.59178976],\n",
       "       [  21.55345833,   50.0307539 ],\n",
       "       [  79.47642778,  165.44196619],\n",
       "       [  48.76796664,  110.89728797],\n",
       "       [  54.79386201,  114.69188511],\n",
       "       [  87.50352552,  186.74420631],\n",
       "       [  38.94913047,   70.69722298],\n",
       "       [   9.39561282,   19.17903005],\n",
       "       [  11.12118682,   27.02295992],\n",
       "       [  46.13555826,   87.29244922],\n",
       "       [  85.69757358,  167.92461412],\n",
       "       [  50.1102964 ,   96.02054844],\n",
       "       [  11.07366673,   24.94632465],\n",
       "       [  22.22813085,   54.00414588],\n",
       "       [  67.5539548 ,  133.16525443],\n",
       "       [  12.78718566,   28.00622322],\n",
       "       [  46.96549084,  100.60558947],\n",
       "       [   4.84854065,   13.8572726 ],\n",
       "       [  40.53733193,   82.59066294],\n",
       "       [  26.33046127,   50.23180391],\n",
       "       [  38.88472635,   79.48177242],\n",
       "       [  93.83826653,  191.32431784],\n",
       "       [  60.08165997,  120.49511544],\n",
       "       [  50.11396522,  111.35232289],\n",
       "       [  17.71868528,   44.93760649],\n",
       "       [  85.07303114,  172.13320308],\n",
       "       [  41.32150973,   84.889236  ],\n",
       "       [  35.45154709,   69.91899124],\n",
       "       [  74.02102554,  149.77864633],\n",
       "       [  90.5197211 ,  187.59390974],\n",
       "       [  34.54059704,   66.32685895],\n",
       "       [  94.56166213,  189.14496411],\n",
       "       [  52.95626785,  103.44683588],\n",
       "       [  80.10643641,  158.52943007],\n",
       "       [  49.82275758,   98.69883963],\n",
       "       [  61.78172531,  122.64739506],\n",
       "       [  60.28610836,  124.76334632],\n",
       "       [  77.32069019,  155.67749312],\n",
       "       [  15.64635875,   35.41060825],\n",
       "       [  71.54061834,  151.32345871],\n",
       "       [  62.45239811,  129.43395879],\n",
       "       [  79.05983237,  163.09690261],\n",
       "       [  72.19769344,  142.89852264],\n",
       "       [  71.41775342,  148.09420854],\n",
       "       [  31.00882008,   63.79687625],\n",
       "       [  40.32528222,   86.72368533]])"
      ]
     },
     "execution_count": 6,
     "metadata": {},
     "output_type": "execute_result"
    }
   ],
   "source": [
    "A"
   ]
  },
  {
   "cell_type": "code",
   "execution_count": 7,
   "metadata": {},
   "outputs": [],
   "source": [
    "x = A[:,0]\n",
    "y = A[:,1]"
   ]
  },
  {
   "cell_type": "code",
   "execution_count": 8,
   "metadata": {},
   "outputs": [
    {
     "data": {
      "text/plain": [
       "(array([ 10.,   9.,   5.,  13.,  10.,  10.,   8.,  16.,  10.,   9.]),\n",
       " array([  3.21124861,  12.88597188,  22.56069515,  32.23541842,\n",
       "         41.91014169,  51.58486496,  61.25958823,  70.9343115 ,\n",
       "         80.60903477,  90.28375804,  99.95848131]),\n",
       " <a list of 10 Patch objects>)"
      ]
     },
     "execution_count": 8,
     "metadata": {},
     "output_type": "execute_result"
    }
   ],
   "source": [
    "plt.hist(x)"
   ]
  },
  {
   "cell_type": "code",
   "execution_count": 9,
   "metadata": {},
   "outputs": [
    {
     "data": {
      "text/plain": [
       "(array([  8.,   6.,   9.,  12.,  10.,  10.,  11.,  12.,  12.,  10.]),\n",
       " array([   6.43437238,   25.50889875,   44.58342512,   63.65795149,\n",
       "          82.73247786,  101.80700423,  120.88153061,  139.95605698,\n",
       "         159.03058335,  178.10510972,  197.17963609]),\n",
       " <a list of 10 Patch objects>)"
      ]
     },
     "execution_count": 9,
     "metadata": {},
     "output_type": "execute_result"
    }
   ],
   "source": [
    "plt.hist(y)"
   ]
  },
  {
   "cell_type": "code",
   "execution_count": 10,
   "metadata": {},
   "outputs": [
    {
     "data": {
      "image/png": "[encoded data removed]",
      "text/plain": [
       "<matplotlib.figure.Figure at 0x7f23072c3e10>"
      ]
     },
     "metadata": {},
     "output_type": "display_data"
    }
   ],
   "source": [
    "plt.show()"
   ]
  },
  {
   "cell_type": "code",
   "execution_count": 11,
   "metadata": {},
   "outputs": [],
   "source": [
    "R = np.random.random(10000)"
   ]
  },
  {
   "cell_type": "code",
   "execution_count": 12,
   "metadata": {},
   "outputs": [
    {
     "data": {
      "text/plain": [
       "(array([  978.,  1035.,   956.,  1047.,  1000.,   979.,   981.,   978.,\n",
       "         1053.,   993.]),\n",
       " array([  1.43446423e-06,   9.99934058e-02,   1.99985377e-01,\n",
       "          2.99977348e-01,   3.99969320e-01,   4.99961291e-01,\n",
       "          5.99953262e-01,   6.99945234e-01,   7.99937205e-01,\n",
       "          8.99929176e-01,   9.99921148e-01]),\n",
       " <a list of 10 Patch objects>)"
      ]
     },
     "execution_count": 12,
     "metadata": {},
     "output_type": "execute_result"
    }
   ],
   "source": [
    "plt.hist(R)"
   ]
  },
  {
   "cell_type": "code",
   "execution_count": 13,
   "metadata": {},
   "outputs": [
    {
     "data": {
      "image/png": "[encoded data removed]",
      "text/plain": [
       "<matplotlib.figure.Figure at 0x7f230526b438>"
      ]
     },
     "metadata": {},
     "output_type": "display_data"
    }
   ],
   "source": [
    "plt.show()"
   ]
  },
  {
   "cell_type": "code",
   "execution_count": 14,
   "metadata": {},
   "outputs": [],
   "source": [
    "# TO increase the no. of buckets or bins we can pass in an argument"
   ]
  },
  {
   "cell_type": "code",
   "execution_count": 15,
   "metadata": {},
   "outputs": [
    {
     "data": {
      "text/plain": [
       "(array([ 501.,  477.,  557.,  478.,  477.,  479.,  543.,  504.,  509.,\n",
       "         491.,  488.,  491.,  463.,  518.,  496.,  482.,  523.,  530.,\n",
       "         475.,  518.]),\n",
       " array([  1.43446423e-06,   4.99974201e-02,   9.99934058e-02,\n",
       "          1.49989391e-01,   1.99985377e-01,   2.49981363e-01,\n",
       "          2.99977348e-01,   3.49973334e-01,   3.99969320e-01,\n",
       "          4.49965305e-01,   4.99961291e-01,   5.49957277e-01,\n",
       "          5.99953262e-01,   6.49949248e-01,   6.99945234e-01,\n",
       "          7.49941219e-01,   7.99937205e-01,   8.49933191e-01,\n",
       "          8.99929176e-01,   9.49925162e-01,   9.99921148e-01]),\n",
       " <a list of 20 Patch objects>)"
      ]
     },
     "execution_count": 15,
     "metadata": {},
     "output_type": "execute_result"
    }
   ],
   "source": [
    "plt.hist(R, bins=20)"
   ]
  },
  {
   "cell_type": "code",
   "execution_count": 16,
   "metadata": {},
   "outputs": [
    {
     "data": {
      "image/png": "[encoded data removed]",
      "text/plain": [
       "<matplotlib.figure.Figure at 0x7f230522f978>"
      ]
     },
     "metadata": {},
     "output_type": "display_data"
    }
   ],
   "source": [
    "plt.show()"
   ]
  },
  {
   "cell_type": "code",
   "execution_count": 17,
   "metadata": {},
   "outputs": [],
   "source": [
    "x = np.linspace(0, 100, 100)"
   ]
  },
  {
   "cell_type": "code",
   "execution_count": 20,
   "metadata": {},
   "outputs": [],
   "source": [
    "y = 2*x + 1\n",
    "y_actual = 2*x + 1"
   ]
  },
  {
   "cell_type": "code",
   "execution_count": 21,
   "metadata": {},
   "outputs": [],
   "source": [
    "residuals = y - y_actual"
   ]
  },
  {
   "cell_type": "code",
   "execution_count": 22,
   "metadata": {},
   "outputs": [
    {
     "data": {
      "text/plain": [
       "(array([   0.,    0.,    0.,    0.,    0.,  100.,    0.,    0.,    0.,    0.]),\n",
       " array([-0.5, -0.4, -0.3, -0.2, -0.1,  0. ,  0.1,  0.2,  0.3,  0.4,  0.5]),\n",
       " <a list of 10 Patch objects>)"
      ]
     },
     "execution_count": 22,
     "metadata": {},
     "output_type": "execute_result"
    }
   ],
   "source": [
    "plt.hist(residuals)"
   ]
  },
  {
   "cell_type": "code",
   "execution_count": 23,
   "metadata": {},
   "outputs": [
    {
     "data": {
      "image/png": "[encoded data removed]",
      "text/plain": [
       "<matplotlib.figure.Figure at 0x7f23051ba0f0>"
      ]
     },
     "metadata": {},
     "output_type": "display_data"
    }
   ],
   "source": [
    "plt.show()"
   ]
  },
  {
   "cell_type": "code",
   "execution_count": null,
   "metadata": {},
   "outputs": [],
   "source": []
  }
 ],
 "metadata": {
  "kernelspec": {
   "display_name": "Python 3",
   "language": "python",
   "name": "python3"
  },
  "language_info": {
   "codemirror_mode": {
    "name": "ipython",
    "version": 3
   },
   "file_extension": ".py",
   "mimetype": "text/x-python",
   "name": "python",
   "nbconvert_exporter": "python",
   "pygments_lexer": "ipython3",
   "version": "3.5.0"
  }
 },
 "nbformat": 4,
 "nbformat_minor": 2
}
